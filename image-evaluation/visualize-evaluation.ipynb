{
 "cells": [
  {
   "metadata": {},
   "cell_type": "code",
   "source": [
    "import pandas as pd\n",
    "import matplotlib.pyplot as plt\n",
    "import seaborn as sns\n",
    "\n",
    "# example csv files\n",
    "fid = pd.read_csv(\"../storage/generated-description_category-split/evaluation/frechet-inception-distance.csv\")\n",
    "image_reward = pd.read_csv(\"../storage/generated-description_category-split/evaluation/image-reward.csv\")"
   ],
   "id": "79aa19c47ffe2143",
   "outputs": [],
   "execution_count": null
  },
  {
   "metadata": {},
   "cell_type": "code",
   "source": [
    "def fid_per_checkpoint():\n",
    "    plt.figure(figsize=(8, 6)) \n",
    "    sns.barplot(x='checkpoint-name', y='fid-score', data=fid)\n",
    "    plt.title('FID-Score per Checkpoint', fontsize=14)\n",
    "    plt.xlabel('Checkpoint', fontsize=14)\n",
    "    plt.xticks(rotation=45, fontsize=10, ha='right')\n",
    "    plt.ylabel('FID-Score', fontsize=14)\n",
    "    plt.yticks(fontsize=12)\n",
    "    plt.tight_layout() \n",
    "    plt.show()\n",
    "\n",
    "fid_per_checkpoint()"
   ],
   "id": "initial_id",
   "outputs": [],
   "execution_count": null
  },
  {
   "metadata": {},
   "cell_type": "code",
   "source": [
    "def image_reward_per_checkpoint():\n",
    "    checkpoint_means = image_reward.iloc[:, 1:].mean()\n",
    "    plt.figure(figsize=(10, 6))\n",
    "    sns.barplot(x=checkpoint_means.index, y=checkpoint_means.values)\n",
    "\n",
    "    plt.title('average image reward per checkpoint', fontsize=16)\n",
    "    plt.xlabel('checkpoint', fontsize=14)\n",
    "    plt.ylabel('average reward', fontsize=14)\n",
    "    \n",
    "    plt.xticks(rotation=45)\n",
    "    plt.tight_layout()\n",
    "    plt.show()\n",
    "\n",
    "image_reward_per_checkpoint()"
   ],
   "id": "59b7e397727eac6f",
   "outputs": [],
   "execution_count": null
  }
 ],
 "metadata": {
  "kernelspec": {
   "display_name": "Python 3",
   "language": "python",
   "name": "python3"
  },
  "language_info": {
   "codemirror_mode": {
    "name": "ipython",
    "version": 2
   },
   "file_extension": ".py",
   "mimetype": "text/x-python",
   "name": "python",
   "nbconvert_exporter": "python",
   "pygments_lexer": "ipython2",
   "version": "2.7.6"
  }
 },
 "nbformat": 4,
 "nbformat_minor": 5
}
