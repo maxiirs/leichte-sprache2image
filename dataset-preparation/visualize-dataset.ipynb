{
 "cells": [
  {
   "metadata": {},
   "cell_type": "code",
   "source": [
    "import pandas as pd\n",
    "import matplotlib.pyplot as plt\n",
    "import seaborn as sns\n",
    "df = pd.read_csv('../storage/dataset.csv')"
   ],
   "id": "120d7eb6cd8e6960",
   "outputs": [],
   "execution_count": null
  },
  {
   "metadata": {},
   "cell_type": "code",
   "source": [
    "def elements_per_category():\n",
    "    plt.figure(figsize=(6, 6))\n",
    "    sns.countplot(y='category', data=df, order=df['category'].value_counts().index)\n",
    "    plt.title('samples per category', fontsize=14)\n",
    "    plt.xlabel('count', fontsize=14)\n",
    "    plt.xticks(fontsize=12)\n",
    "    plt.ylabel('category', fontsize=14)\n",
    "    plt.yticks(fontsize=12)\n",
    "    plt.show()\n",
    "elements_per_category()"
   ],
   "id": "initial_id",
   "outputs": [],
   "execution_count": null
  },
  {
   "metadata": {},
   "cell_type": "code",
   "source": [
    "def description_length_per_category():\n",
    "    df['description_length'] = df['description'].apply(lambda x: len(str(x).split()))\n",
    "    \n",
    "    avg_length = df.groupby('category')['description_length'].mean().sort_values()\n",
    "    \n",
    "    plt.figure(figsize=(12, 8))\n",
    "    avg_length.plot(kind='barh')\n",
    "    plt.title('average description length per category', fontsize=14)\n",
    "    plt.xlabel('average number of words', fontsize=14)\n",
    "    plt.ylabel('category', fontsize=14)\n",
    "    plt.xticks(fontsize=12)\n",
    "    plt.yticks(fontsize=12)\n",
    "    plt.show()\n",
    "description_length_per_category()"
   ],
   "id": "f4f6c3c58262601",
   "outputs": [],
   "execution_count": null
  },
  {
   "metadata": {},
   "cell_type": "code",
   "source": [
    "def distribution_of_description_length():\n",
    "    plt.figure(figsize=(6, 6))\n",
    "    df['description_length'] = df['description'].apply(lambda x: len(str(x).split()))\n",
    "    \n",
    "    sns.histplot(df['description_length'], bins=30, kde=True)\n",
    "    plt.title('distribution of description length', fontsize=14)\n",
    "    plt.xlabel('number of words', fontsize=14)\n",
    "    plt.ylabel('number of samples', fontsize=14)\n",
    "    plt.xticks(fontsize=12)\n",
    "    plt.yticks(fontsize=12)\n",
    "    plt.show()\n",
    "distribution_of_description_length()"
   ],
   "id": "46dd9ae5061a3da5",
   "outputs": [],
   "execution_count": null
  },
  {
   "metadata": {},
   "cell_type": "code",
   "source": [
    "df[['width', 'height']] = df['resolution'].str.split('x', expand=True).astype(int)\n",
    "def distribution_of_resolution_dimensions():\n",
    "    plt.figure(figsize=(6, 6))\n",
    "    \n",
    "    sns.histplot(df['height'], bins=30, color='blue', label='Höhe', stat='count', element='bars')\n",
    "    sns.histplot(df['width'], bins=30, color='orange', label='Breite', stat='count', element='bars')\n",
    "    \n",
    "    plt.title('distribution of image resolution', fontsize=14)\n",
    "    plt.xlabel('pixel value', fontsize=14)\n",
    "    plt.ylabel('number of samples', fontsize=14)\n",
    "    plt.legend(title='dimensions', fontsize=12, title_fontsize='13')\n",
    "    plt.xticks(fontsize=12)\n",
    "    plt.yticks(fontsize=12)\n",
    "    plt.show()\n",
    "\n",
    "distribution_of_resolution_dimensions()"
   ],
   "id": "4cdaf4bf444d4ade",
   "outputs": [],
   "execution_count": null
  },
  {
   "metadata": {},
   "cell_type": "code",
   "source": [
    "def boxplot_description_length_per_category():\n",
    "    df['description_length'] = df['description'].apply(lambda x: len(str(x).split()))\n",
    "    \n",
    "    plt.figure(figsize=(12, 8))\n",
    "    \n",
    "    sns.boxplot(x='category', y='description_length', data=df, hue=df['category'])\n",
    "    \n",
    "    plt.title('distribution of description length per category', fontsize=16)\n",
    "    plt.xlabel('category', fontsize=16)\n",
    "    plt.ylabel('number of words per category', fontsize=14)\n",
    "    plt.yticks(fontsize=14)\n",
    "    plt.xticks(rotation=45, ha='right', fontsize=14) \n",
    "    plt.show()\n",
    "\n",
    "boxplot_description_length_per_category()"
   ],
   "id": "d357c31612132b1b",
   "outputs": [],
   "execution_count": null
  }
 ],
 "metadata": {
  "kernelspec": {
   "display_name": "Python 3",
   "language": "python",
   "name": "python3"
  },
  "language_info": {
   "codemirror_mode": {
    "name": "ipython",
    "version": 2
   },
   "file_extension": ".py",
   "mimetype": "text/x-python",
   "name": "python",
   "nbconvert_exporter": "python",
   "pygments_lexer": "ipython2",
   "version": "2.7.6"
  }
 },
 "nbformat": 4,
 "nbformat_minor": 5
}
